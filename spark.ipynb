{
  "nbformat": 4,
  "nbformat_minor": 0,
  "metadata": {
    "colab": {
      "provenance": [],
      "include_colab_link": true
    },
    "kernelspec": {
      "name": "python3",
      "display_name": "Python 3"
    },
    "language_info": {
      "name": "python"
    }
  },
  "cells": [
    {
      "cell_type": "markdown",
      "metadata": {
        "id": "view-in-github",
        "colab_type": "text"
      },
      "source": [
        "<a href=\"https://colab.research.google.com/github/eduardotas/sparkProject/blob/main/spark.ipynb\" target=\"_parent\"><img src=\"https://colab.research.google.com/assets/colab-badge.svg\" alt=\"Open In Colab\"/></a>"
      ]
    },
    {
      "cell_type": "markdown",
      "source": [
        "#Dowload Data"
      ],
      "metadata": {
        "id": "FfeYBAM9D7HX"
      }
    },
    {
      "cell_type": "code",
      "source": [
        "import requests\n",
        "import gzip\n",
        "import shutil\n",
        "import os\n",
        "from constants import zip_folder, unzip_folder"
      ],
      "metadata": {
        "id": "aY1aqzsjGp2a"
      },
      "execution_count": 12,
      "outputs": []
    },
    {
      "cell_type": "code",
      "source": [
        "# Lista de URLs para download\n",
        "urls = [\n",
        "    \"https://datasets.imdbws.com/name.basics.tsv.gz\",\n",
        "    \"https://datasets.imdbws.com/title.akas.tsv.gz\",\n",
        "    \"https://datasets.imdbws.com/title.basics.tsv.gz\",\n",
        "    \"https://datasets.imdbws.com/title.crew.tsv.gz\",\n",
        "    \"https://datasets.imdbws.com/title.episode.tsv.gz\",\n",
        "    \"https://datasets.imdbws.com/title.principals.tsv.gz\",\n",
        "    \"https://datasets.imdbws.com/title.ratings.tsv.gz\"\n",
        "]\n",
        "\n",
        "# Função para baixar um arquivo\n",
        "def download_file(url):\n",
        "    filename = url.split(\"/\")[-1]  # Extrai o nome do arquivo da URL\n",
        "    print(f\"Baixando {filename}...\")\n",
        "\n",
        "    response = requests.get(url, stream=True)\n",
        "    if response.status_code == 200:\n",
        "        with open(filename, \"wb\") as file:\n",
        "            for chunk in response.iter_content(chunk_size=1024):\n",
        "                file.write(chunk)\n",
        "        print(f\"Download concluído: {filename}\")\n",
        "    else:\n",
        "        print(f\"Falha ao baixar {filename}. Código de status: {response.status_code}\")\n",
        "\n",
        "    return filename"
      ],
      "metadata": {
        "id": "QD3HHZJBDidq"
      },
      "execution_count": 8,
      "outputs": []
    },
    {
      "cell_type": "code",
      "source": [
        "# Função para descompactar um arquivo .gz\n",
        "def extract_gz(file_path):\n",
        "    output_file = file_path.replace(\".gz\", \"\")\n",
        "    print(f\"Descompactando {file_path} para {output_file}...\")\n",
        "\n",
        "    with gzip.open(file_path, \"rb\") as f_in:\n",
        "        with open(output_file, \"wb\") as f_out:\n",
        "            shutil.copyfileobj(f_in, f_out)\n",
        "\n",
        "    print(f\"Descompactação concluída: {output_file}\")\n",
        "    return output_file"
      ],
      "metadata": {
        "id": "LJ4K-zErIxKp"
      },
      "execution_count": null,
      "outputs": []
    },
    {
      "cell_type": "code",
      "source": [
        "# Loop para baixar e descompactar todos os arquivos\n",
        "for url in urls:\n",
        "    gz_file = download_file(url)  # Baixa o arquivo\n",
        "    if gz_file and os.path.exists(gz_file):\n",
        "        extract_gz(gz_file)  # Descompacta o arquivo\n",
        "\n",
        "print(\"Todos os arquivos foram baixados e descompactados com sucesso!\")"
      ],
      "metadata": {
        "id": "gGSAMSfcI14b"
      },
      "execution_count": null,
      "outputs": []
    }
  ]
}