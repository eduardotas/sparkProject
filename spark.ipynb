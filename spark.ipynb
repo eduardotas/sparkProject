{
  "nbformat": 4,
  "nbformat_minor": 0,
  "metadata": {
    "colab": {
      "provenance": [],
      "include_colab_link": true
    },
    "kernelspec": {
      "name": "python3",
      "display_name": "Python 3"
    },
    "language_info": {
      "name": "python"
    }
  },
  "cells": [
    {
      "cell_type": "markdown",
      "metadata": {
        "id": "view-in-github",
        "colab_type": "text"
      },
      "source": [
        "<a href=\"https://colab.research.google.com/github/eduardotas/sparkProject/blob/main/spark.ipynb\" target=\"_parent\"><img src=\"https://colab.research.google.com/assets/colab-badge.svg\" alt=\"Open In Colab\"/></a>"
      ]
    },
    {
      "cell_type": "markdown",
      "source": [
        "#Constants"
      ],
      "metadata": {
        "id": "vTrtniPrJenK"
      }
    },
    {
      "cell_type": "code",
      "source": [
        "zip_data_folder = \"zip_data\"\n",
        "uniziped_data_folder = \"uniziped_data\""
      ],
      "metadata": {
        "id": "Gzty7rlCJg5M"
      },
      "execution_count": 13,
      "outputs": []
    },
    {
      "cell_type": "markdown",
      "source": [
        "#Create Environment"
      ],
      "metadata": {
        "id": "giywZo7BKow6"
      }
    },
    {
      "cell_type": "code",
      "source": [
        "import os\n",
        "os.makedirs(zip_data_folder, exist_ok=True)\n",
        "os.makedirs(uniziped_data_folder, exist_ok=True)"
      ],
      "metadata": {
        "id": "Tqx1-pcpKvgx"
      },
      "execution_count": 18,
      "outputs": []
    },
    {
      "cell_type": "markdown",
      "source": [
        "#Dowload Data"
      ],
      "metadata": {
        "id": "FfeYBAM9D7HX"
      }
    },
    {
      "cell_type": "code",
      "source": [
        "import requests\n",
        "import gzip\n",
        "import shutil"
      ],
      "metadata": {
        "id": "aY1aqzsjGp2a"
      },
      "execution_count": 20,
      "outputs": []
    },
    {
      "cell_type": "code",
      "source": [
        "# Lista de URLs para download\n",
        "urls = [\n",
        "    \"https://datasets.imdbws.com/name.basics.tsv.gz\", #Count 14292552\n",
        "    \"https://datasets.imdbws.com/title.akas.tsv.gz\",\n",
        "    \"https://datasets.imdbws.com/title.basics.tsv.gz\",\n",
        "    \"https://datasets.imdbws.com/title.crew.tsv.gz\",\n",
        "    \"https://datasets.imdbws.com/title.episode.tsv.gz\",\n",
        "    \"https://datasets.imdbws.com/title.principals.tsv.gz\",\n",
        "    \"https://datasets.imdbws.com/title.ratings.tsv.gz\"\n",
        "]\n",
        "\n",
        "# Função para baixar um arquivo\n",
        "def download_file(url):\n",
        "    filename = url.split(\"/\")[-1]  # Extrai o nome do arquivo da URL\n",
        "    file_path = os.path.join(zip_data_folder, filename)\n",
        "    print(f\"Baixando {filename}...\")\n",
        "\n",
        "    response = requests.get(url, stream=True)\n",
        "    if response.status_code == 200:\n",
        "        with open(file_path, \"wb\") as file:\n",
        "            for chunk in response.iter_content(chunk_size=1024):\n",
        "                file.write(chunk)\n",
        "        print(f\"Download concluído: {filename}\")\n",
        "    else:\n",
        "        print(f\"Falha ao baixar {filename}. Código de status: {response.status_code}\")\n",
        "\n",
        "    return file_path"
      ],
      "metadata": {
        "id": "QD3HHZJBDidq"
      },
      "execution_count": 30,
      "outputs": []
    },
    {
      "cell_type": "code",
      "source": [
        "# Função para descompactar um arquivo .gz\n",
        "def extract_gz(file_path):\n",
        "    output_file = file_path.replace(\".gz\", \"\")\n",
        "    output_file = output_file.replace(zip_data_folder,uniziped_data_folder)\n",
        "    print(f\"Descompactando {file_path} para {output_file}...\")\n",
        "\n",
        "    with gzip.open(file_path, \"rb\") as f_in:\n",
        "        with open(output_file, \"wb\") as f_out:\n",
        "            shutil.copyfileobj(f_in, f_out)\n",
        "\n",
        "    print(f\"Descompactação concluída: {output_file}\")\n",
        "    return output_file"
      ],
      "metadata": {
        "id": "LJ4K-zErIxKp"
      },
      "execution_count": 33,
      "outputs": []
    },
    {
      "cell_type": "code",
      "source": [
        "# Loop para baixar e descompactar todos os arquivos\n",
        "for url in urls:\n",
        "    gz_file = download_file(url)  # Baixa o arquivo\n",
        "    if gz_file and os.path.exists(gz_file):\n",
        "        extract_gz(gz_file)  # Descompacta o arquivo\n",
        "\n",
        "print(\"Todos os arquivos foram baixados e descompactados com sucesso!\")"
      ],
      "metadata": {
        "id": "gGSAMSfcI14b"
      },
      "execution_count": null,
      "outputs": []
    },
    {
      "cell_type": "markdown",
      "source": [
        "#SPARK"
      ],
      "metadata": {
        "id": "SOhokPC_N8a9"
      }
    },
    {
      "cell_type": "code",
      "source": [
        "from pyspark.sql import SparkSession"
      ],
      "metadata": {
        "id": "ZQhOTbQ0N-DF"
      },
      "execution_count": 35,
      "outputs": []
    },
    {
      "cell_type": "code",
      "source": [
        "spark = SparkSession.builder \\\n",
        "    .appName(\"Movies\") \\\n",
        "    .config(\"spark.sql.shuffle.partitions\", \"200\") \\\n",
        "    .config(\"spark.executor.memory\", \"4g\") \\\n",
        "    .getOrCreate()"
      ],
      "metadata": {
        "id": "whXbFRtNOBE_"
      },
      "execution_count": 45,
      "outputs": []
    },
    {
      "cell_type": "code",
      "source": [
        "\n",
        "files = [os.path.join(uniziped_data_folder, f) for f in os.listdir(uniziped_data_folder) if os.path.isfile(os.path.join(uniziped_data_folder, f))]\n",
        "for f in files:\n",
        "  df = spark.read.csv(f, sep=\"\\t\", header=True, inferSchema=True)\n",
        "  print(f)\n",
        "  print(df.count())\n",
        "#+---------------------------------------------------------+------------------+\n",
        "#| Caminho do Arquivo                                      | Número de Linhas |\n",
        "#+---------------------------------------------------------+------------------+\n",
        "#| uniziped_data/title.akas.tsv                            | 51,769,541       |\n",
        "#| uniziped_data/title.ratings.tsv                         | 1,550,861        |\n",
        "#| uniziped_data/title.crew.tsv                            | 11,554,731       |\n",
        "#| uniziped_data/title.episode.tsv                         | 8,888,537        |\n",
        "#| uniziped_data/title.basics.tsv                          | 11,552,092       |\n",
        "#| uniziped_data/title.principals.tsv                      | 91,727,348       |\n",
        "#| uniziped_data/name.basics.tsv                           | 14,292,552       |\n",
        "#---------------------------------------------------------+-------------------+"
      ],
      "metadata": {
        "colab": {
          "base_uri": "https://localhost:8080/"
        },
        "id": "FedfzZDHOGNN",
        "outputId": "c73cd0a9-6dfc-40eb-8065-245ecc9e3831"
      },
      "execution_count": 46,
      "outputs": [
        {
          "output_type": "stream",
          "name": "stdout",
          "text": [
            "uniziped_data/title.akas.tsv\n",
            "51769541\n",
            "uniziped_data/title.ratings.tsv\n",
            "1550861\n",
            "uniziped_data/title.crew.tsv\n",
            "11554731\n",
            "uniziped_data/title.episode.tsv\n",
            "8888537\n",
            "uniziped_data/title.basics.tsv\n",
            "11552092\n",
            "uniziped_data/title.principals.tsv\n",
            "91727348\n",
            "uniziped_data/name.basics.tsv\n",
            "14292552\n"
          ]
        }
      ]
    },
    {
      "cell_type": "code",
      "source": [],
      "metadata": {
        "id": "iXzkPNDtRxpb"
      },
      "execution_count": null,
      "outputs": []
    }
  ]
}