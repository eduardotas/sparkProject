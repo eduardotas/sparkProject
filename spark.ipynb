{
  "nbformat": 4,
  "nbformat_minor": 0,
  "metadata": {
    "colab": {
      "provenance": [],
      "include_colab_link": true
    },
    "kernelspec": {
      "name": "python3",
      "display_name": "Python 3"
    },
    "language_info": {
      "name": "python"
    }
  },
  "cells": [
    {
      "cell_type": "markdown",
      "metadata": {
        "id": "view-in-github",
        "colab_type": "text"
      },
      "source": [
        "<a href=\"https://colab.research.google.com/github/eduardotas/sparkProject/blob/main/spark.ipynb\" target=\"_parent\"><img src=\"https://colab.research.google.com/assets/colab-badge.svg\" alt=\"Open In Colab\"/></a>"
      ]
    },
    {
      "cell_type": "markdown",
      "source": [
        "#Constants"
      ],
      "metadata": {
        "id": "vTrtniPrJenK"
      }
    },
    {
      "cell_type": "code",
      "source": [
        "zip_data_folder = \"zip_data\"\n",
        "uniziped_data_folder = \"uniziped_data\""
      ],
      "metadata": {
        "id": "Gzty7rlCJg5M"
      },
      "execution_count": 13,
      "outputs": []
    },
    {
      "cell_type": "markdown",
      "source": [
        "#Create Environment"
      ],
      "metadata": {
        "id": "giywZo7BKow6"
      }
    },
    {
      "cell_type": "code",
      "source": [
        "import os\n",
        "os.makedirs(zip_data_folder, exist_ok=True)\n",
        "os.makedirs(uniziped_data_folder, exist_ok=True)"
      ],
      "metadata": {
        "id": "Tqx1-pcpKvgx"
      },
      "execution_count": 18,
      "outputs": []
    },
    {
      "cell_type": "markdown",
      "source": [
        "#Dowload Data"
      ],
      "metadata": {
        "id": "FfeYBAM9D7HX"
      }
    },
    {
      "cell_type": "code",
      "source": [
        "import requests\n",
        "import gzip\n",
        "import shutil"
      ],
      "metadata": {
        "id": "aY1aqzsjGp2a"
      },
      "execution_count": 20,
      "outputs": []
    },
    {
      "cell_type": "code",
      "source": [
        "# Lista de URLs para download\n",
        "urls = [\n",
        "    \"https://datasets.imdbws.com/name.basics.tsv.gz\",\n",
        "    \"https://datasets.imdbws.com/title.akas.tsv.gz\",\n",
        "    \"https://datasets.imdbws.com/title.basics.tsv.gz\",\n",
        "    \"https://datasets.imdbws.com/title.crew.tsv.gz\",\n",
        "    \"https://datasets.imdbws.com/title.episode.tsv.gz\",\n",
        "    \"https://datasets.imdbws.com/title.principals.tsv.gz\",\n",
        "    \"https://datasets.imdbws.com/title.ratings.tsv.gz\"\n",
        "]\n",
        "\n",
        "# Função para baixar um arquivo\n",
        "def download_file(url):\n",
        "    filename = url.split(\"/\")[-1]  # Extrai o nome do arquivo da URL\n",
        "    file_path = os.path.join(zip_data_folder, filename)\n",
        "    print(f\"Baixando {filename}...\")\n",
        "\n",
        "    response = requests.get(url, stream=True)\n",
        "    if response.status_code == 200:\n",
        "        with open(file_path, \"wb\") as file:\n",
        "            for chunk in response.iter_content(chunk_size=1024):\n",
        "                file.write(chunk)\n",
        "        print(f\"Download concluído: {filename}\")\n",
        "    else:\n",
        "        print(f\"Falha ao baixar {filename}. Código de status: {response.status_code}\")\n",
        "\n",
        "    return file_path"
      ],
      "metadata": {
        "id": "QD3HHZJBDidq"
      },
      "execution_count": 30,
      "outputs": []
    },
    {
      "cell_type": "code",
      "source": [
        "# Função para descompactar um arquivo .gz\n",
        "def extract_gz(file_path):\n",
        "    output_file = file_path.replace(\".gz\", \"\")\n",
        "    output_file = output_file.replace(zip_data_folder,uniziped_data_folder)\n",
        "    print(f\"Descompactando {file_path} para {output_file}...\")\n",
        "\n",
        "    with gzip.open(file_path, \"rb\") as f_in:\n",
        "        with open(output_file, \"wb\") as f_out:\n",
        "            shutil.copyfileobj(f_in, f_out)\n",
        "\n",
        "    print(f\"Descompactação concluída: {output_file}\")\n",
        "    return output_file"
      ],
      "metadata": {
        "id": "LJ4K-zErIxKp"
      },
      "execution_count": 33,
      "outputs": []
    },
    {
      "cell_type": "code",
      "source": [
        "# Loop para baixar e descompactar todos os arquivos\n",
        "for url in urls:\n",
        "    gz_file = download_file(url)  # Baixa o arquivo\n",
        "    if gz_file and os.path.exists(gz_file):\n",
        "        extract_gz(gz_file)  # Descompacta o arquivo\n",
        "\n",
        "print(\"Todos os arquivos foram baixados e descompactados com sucesso!\")"
      ],
      "metadata": {
        "colab": {
          "base_uri": "https://localhost:8080/"
        },
        "id": "gGSAMSfcI14b",
        "outputId": "bf154418-ecce-44a2-ddd7-59d3331b9717"
      },
      "execution_count": 34,
      "outputs": [
        {
          "metadata": {
            "tags": null
          },
          "name": "stdout",
          "output_type": "stream",
          "text": [
            "Baixando name.basics.tsv.gz...\n",
            "Download concluído: name.basics.tsv.gz\n",
            "Descompactando zip_data/name.basics.tsv.gz para uniziped_data/name.basics.tsv...\n",
            "Descompactação concluída: uniziped_data/name.basics.tsv\n",
            "Baixando title.akas.tsv.gz...\n",
            "Download concluído: title.akas.tsv.gz\n",
            "Descompactando zip_data/title.akas.tsv.gz para uniziped_data/title.akas.tsv...\n",
            "Descompactação concluída: uniziped_data/title.akas.tsv\n",
            "Baixando title.basics.tsv.gz...\n",
            "Download concluído: title.basics.tsv.gz\n",
            "Descompactando zip_data/title.basics.tsv.gz para uniziped_data/title.basics.tsv...\n",
            "Descompactação concluída: uniziped_data/title.basics.tsv\n",
            "Baixando title.crew.tsv.gz...\n",
            "Download concluído: title.crew.tsv.gz\n",
            "Descompactando zip_data/title.crew.tsv.gz para uniziped_data/title.crew.tsv...\n",
            "Descompactação concluída: uniziped_data/title.crew.tsv\n",
            "Baixando title.episode.tsv.gz...\n",
            "Download concluído: title.episode.tsv.gz\n",
            "Descompactando zip_data/title.episode.tsv.gz para uniziped_data/title.episode.tsv...\n",
            "Descompactação concluída: uniziped_data/title.episode.tsv\n",
            "Baixando title.principals.tsv.gz...\n",
            "Download concluído: title.principals.tsv.gz\n",
            "Descompactando zip_data/title.principals.tsv.gz para uniziped_data/title.principals.tsv...\n",
            "Descompactação concluída: uniziped_data/title.principals.tsv\n",
            "Baixando title.ratings.tsv.gz...\n",
            "Download concluído: title.ratings.tsv.gz\n",
            "Descompactando zip_data/title.ratings.tsv.gz para uniziped_data/title.ratings.tsv...\n",
            "Descompactação concluída: uniziped_data/title.ratings.tsv\n",
            "Todos os arquivos foram baixados e descompactados com sucesso!\n"
          ]
        }
      ]
    }
  ]
}